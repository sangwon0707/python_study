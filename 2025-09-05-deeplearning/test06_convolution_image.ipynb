{
 "cells": [
  {
   "cell_type": "code",
   "execution_count": 1,
   "id": "208bc405",
   "metadata": {},
   "outputs": [],
   "source": [
    "import numpy as np, sys\n",
    "import matplotlib.pyplot as plt\n",
    "import os\n",
    "import tensorflow as tf\n",
    "import keras\n",
    "\n",
    "from keras.datasets import mnist\n",
    "from keras import Sequential, Input\n",
    "from keras.layers import Dense\n",
    "from keras.callbacks import ModelCheckpoint, EarlyStopping\n",
    "from keras.utils import to_categorical\n",
    "\n",
    "#손글씨 인식을 위한 라이브러리 불러오기\n",
    "\n"
   ]
  },
  {
   "cell_type": "code",
   "execution_count": 2,
   "id": "6a73d6d9",
   "metadata": {},
   "outputs": [],
   "source": [
    "seed = 0\n",
    "np.random.seed(seed)\n",
    "tf.random.set_seed(seed)\n",
    "#데이터셋을 선별을 일정하게 하기 위한 값 설정"
   ]
  },
  {
   "cell_type": "code",
   "execution_count": 3,
   "id": "a30093bf",
   "metadata": {},
   "outputs": [
    {
     "name": "stdout",
     "output_type": "stream",
     "text": [
      "Study-Set image : 60000 \n",
      "Test-Set image : 10000 \n"
     ]
    }
   ],
   "source": [
    "(X_train, Y_class_train), (X_test, Y_class_test) = mnist.load_data()\n",
    "#MNIST 데이터 셋을 학습용, 테스툥으로 구분하여 저장\n",
    "\n",
    "print(\"Study-Set image : %d \" % (X_train.shape[0]))\n",
    "print(\"Test-Set image : %d \" % (X_test.shape[0]))\n",
    "#학습셋과 테스트셋의 데이터 개수 출력"
   ]
  },
  {
   "cell_type": "code",
   "execution_count": null,
   "id": "3d0d96c8",
   "metadata": {},
   "outputs": [
    {
     "data": {
      "image/png": "[encoded data removed]",
      "text/plain": [
       "<Figure size 640x480 with 1 Axes>"
      ]
     },
     "metadata": {},
     "output_type": "display_data"
    }
   ],
   "source": [
    "plt.imshow(X_train[0], cmap='Greys')\n",
    "#학습셋의 첫번째 데이터의 흑백이미지 생성\n",
    "plt.show()\n",
    "#화면상에 출력\n"
   ]
  },
  {
   "cell_type": "code",
   "execution_count": null,
   "id": "848c77c0",
   "metadata": {},
   "outputs": [
    {
     "name": "stdout",
     "output_type": "stream",
     "text": [
      "0\t0\t0\t0\t0\t0\t0\t0\t0\t0\t0\t0\t0\t0\t0\t0\t0\t0\t0\t0\t0\t0\t0\t0\t0\t0\t0\t0\t\n",
      "0\t0\t0\t0\t0\t0\t0\t0\t0\t0\t0\t0\t0\t0\t0\t0\t0\t0\t0\t0\t0\t0\t0\t0\t0\t0\t0\t0\t\n",
      "0\t0\t0\t0\t0\t0\t0\t0\t0\t0\t0\t0\t0\t0\t0\t0\t0\t0\t0\t0\t0\t0\t0\t0\t0\t0\t0\t0\t\n",
      "0\t0\t0\t0\t0\t0\t0\t0\t0\t0\t0\t0\t0\t0\t0\t0\t0\t0\t0\t0\t0\t0\t0\t0\t0\t0\t0\t0\t\n",
      "0\t0\t0\t0\t0\t0\t0\t0\t0\t0\t0\t0\t0\t0\t0\t51\t159\t253\t159\t50\t0\t0\t0\t0\t0\t0\t0\t0\t\n",
      "0\t0\t0\t0\t0\t0\t0\t0\t0\t0\t0\t0\t0\t0\t48\t238\t252\t252\t252\t237\t0\t0\t0\t0\t0\t0\t0\t0\t\n",
      "0\t0\t0\t0\t0\t0\t0\t0\t0\t0\t0\t0\t0\t54\t227\t253\t252\t239\t233\t252\t57\t6\t0\t0\t0\t0\t0\t0\t\n",
      "0\t0\t0\t0\t0\t0\t0\t0\t0\t0\t0\t10\t60\t224\t252\t253\t252\t202\t84\t252\t253\t122\t0\t0\t0\t0\t0\t0\t\n",
      "0\t0\t0\t0\t0\t0\t0\t0\t0\t0\t0\t163\t252\t252\t252\t253\t252\t252\t96\t189\t253\t167\t0\t0\t0\t0\t0\t0\t\n",
      "0\t0\t0\t0\t0\t0\t0\t0\t0\t0\t51\t238\t253\t253\t190\t114\t253\t228\t47\t79\t255\t168\t0\t0\t0\t0\t0\t0\t\n",
      "0\t0\t0\t0\t0\t0\t0\t0\t0\t48\t238\t252\t252\t179\t12\t75\t121\t21\t0\t0\t253\t243\t50\t0\t0\t0\t0\t0\t\n",
      "0\t0\t0\t0\t0\t0\t0\t0\t38\t165\t253\t233\t208\t84\t0\t0\t0\t0\t0\t0\t253\t252\t165\t0\t0\t0\t0\t0\t\n",
      "0\t0\t0\t0\t0\t0\t0\t7\t178\t252\t240\t71\t19\t28\t0\t0\t0\t0\t0\t0\t253\t252\t195\t0\t0\t0\t0\t0\t\n",
      "0\t0\t0\t0\t0\t0\t0\t57\t252\t252\t63\t0\t0\t0\t0\t0\t0\t0\t0\t0\t253\t252\t195\t0\t0\t0\t0\t0\t\n",
      "0\t0\t0\t0\t0\t0\t0\t198\t253\t190\t0\t0\t0\t0\t0\t0\t0\t0\t0\t0\t255\t253\t196\t0\t0\t0\t0\t0\t\n",
      "0\t0\t0\t0\t0\t0\t76\t246\t252\t112\t0\t0\t0\t0\t0\t0\t0\t0\t0\t0\t253\t252\t148\t0\t0\t0\t0\t0\t\n",
      "0\t0\t0\t0\t0\t0\t85\t252\t230\t25\t0\t0\t0\t0\t0\t0\t0\t0\t7\t135\t253\t186\t12\t0\t0\t0\t0\t0\t\n",
      "0\t0\t0\t0\t0\t0\t85\t252\t223\t0\t0\t0\t0\t0\t0\t0\t0\t7\t131\t252\t225\t71\t0\t0\t0\t0\t0\t0\t\n",
      "0\t0\t0\t0\t0\t0\t85\t252\t145\t0\t0\t0\t0\t0\t0\t0\t48\t165\t252\t173\t0\t0\t0\t0\t0\t0\t0\t0\t\n",
      "0\t0\t0\t0\t0\t0\t86\t253\t225\t0\t0\t0\t0\t0\t0\t114\t238\t253\t162\t0\t0\t0\t0\t0\t0\t0\t0\t0\t\n",
      "0\t0\t0\t0\t0\t0\t85\t252\t249\t146\t48\t29\t85\t178\t225\t253\t223\t167\t56\t0\t0\t0\t0\t0\t0\t0\t0\t0\t\n",
      "0\t0\t0\t0\t0\t0\t85\t252\t252\t252\t229\t215\t252\t252\t252\t196\t130\t0\t0\t0\t0\t0\t0\t0\t0\t0\t0\t0\t\n",
      "0\t0\t0\t0\t0\t0\t28\t199\t252\t252\t253\t252\t252\t233\t145\t0\t0\t0\t0\t0\t0\t0\t0\t0\t0\t0\t0\t0\t\n",
      "0\t0\t0\t0\t0\t0\t0\t25\t128\t252\t253\t252\t141\t37\t0\t0\t0\t0\t0\t0\t0\t0\t0\t0\t0\t0\t0\t0\t\n",
      "0\t0\t0\t0\t0\t0\t0\t0\t0\t0\t0\t0\t0\t0\t0\t0\t0\t0\t0\t0\t0\t0\t0\t0\t0\t0\t0\t0\t\n",
      "0\t0\t0\t0\t0\t0\t0\t0\t0\t0\t0\t0\t0\t0\t0\t0\t0\t0\t0\t0\t0\t0\t0\t0\t0\t0\t0\t0\t\n",
      "0\t0\t0\t0\t0\t0\t0\t0\t0\t0\t0\t0\t0\t0\t0\t0\t0\t0\t0\t0\t0\t0\t0\t0\t0\t0\t0\t0\t\n",
      "0\t0\t0\t0\t0\t0\t0\t0\t0\t0\t0\t0\t0\t0\t0\t0\t0\t0\t0\t0\t0\t0\t0\t0\t0\t0\t0\t0\t\n"
     ]
    }
   ],
   "source": [
    "for x in X_train[0]:\n",
    "    for i in x:\n",
    "        sys.stdout.write('%d\\t' %i)\n",
    "    sys.stdout.write('\\n')\n",
    "\n",
    "#데이터 값을 행렬로 표기"
   ]
  },
  {
   "cell_type": "code",
   "execution_count": 6,
   "id": "8c5a9a07",
   "metadata": {},
   "outputs": [],
   "source": [
    "X_train = X_train.reshape(X_train.shape[0], 784)\n",
    "#학습셋의 2차원 배열을 1차원 배열로 변환"
   ]
  },
  {
   "cell_type": "code",
   "execution_count": 7,
   "id": "551948f2",
   "metadata": {},
   "outputs": [],
   "source": [
    "X_train = X_train.astype('float64')\n",
    "#학습셋의 데이터형을 실수형으로 변환"
   ]
  },
  {
   "cell_type": "code",
   "execution_count": 8,
   "id": "c68111e0",
   "metadata": {},
   "outputs": [],
   "source": [
    "X_train = X_train / 255\n",
    "#정규화(0~1 사이 값으로 변환) 수행"
   ]
  },
  {
   "cell_type": "code",
   "execution_count": 9,
   "id": "0480c7aa",
   "metadata": {},
   "outputs": [],
   "source": [
    "X_test = X_test.reshape(X_test.shape[0], 784).astype('float64') / 255\n",
    "#테스트셋에 대해 위의 작업 수행"
   ]
  },
  {
   "cell_type": "code",
   "execution_count": 10,
   "id": "a7fcd42b",
   "metadata": {},
   "outputs": [
    {
     "name": "stdout",
     "output_type": "stream",
     "text": [
      "class : 5 \n"
     ]
    }
   ],
   "source": [
    "#해당 데이터의 분류결과 확인\n",
    "print(\"class : %d \" % (Y_class_train[0]))\n",
    "#학습셋의 해당 데이터의 분류(class) 출력"
   ]
  },
  {
   "cell_type": "code",
   "execution_count": 11,
   "id": "00fc415e",
   "metadata": {},
   "outputs": [],
   "source": [
    "Y_train = to_categorical(Y_class_train, 10)\n",
    "#학습셋 분류값 (0~9)을 바이너리값으로 변환"
   ]
  },
  {
   "cell_type": "code",
   "execution_count": 12,
   "id": "c570cf62",
   "metadata": {},
   "outputs": [],
   "source": [
    "Y_test = to_categorical(Y_class_test, 10)\n",
    "#테스트 분류값을 바이너리값으로 변환"
   ]
  },
  {
   "cell_type": "code",
   "execution_count": 13,
   "id": "f3f02d78",
   "metadata": {},
   "outputs": [
    {
     "name": "stdout",
     "output_type": "stream",
     "text": [
      "[0. 0. 0. 0. 0. 1. 0. 0. 0. 0.]\n"
     ]
    }
   ],
   "source": [
    "print(Y_train[0])\n",
    "#실습 데이터의 학습셋 바이너리값 출력"
   ]
  },
  {
   "cell_type": "code",
   "execution_count": 14,
   "id": "9e52b34e",
   "metadata": {},
   "outputs": [],
   "source": [
    "model = Sequential()\n",
    "#모델 객체 생성 "
   ]
  },
  {
   "cell_type": "code",
   "execution_count": 15,
   "id": "5638ec63",
   "metadata": {},
   "outputs": [],
   "source": [
    "model.add(Input(shape=(784,)))\n",
    "#입력레이어 정의 (독립변수 784개)"
   ]
  },
  {
   "cell_type": "code",
   "execution_count": 16,
   "id": "0c1e6d00",
   "metadata": {},
   "outputs": [],
   "source": [
    "model.add(Dense(512, activation='relu'))\n",
    "#처리레이어 정의 (입력 784개, 출력 512개)\n"
   ]
  },
  {
   "cell_type": "code",
   "execution_count": 17,
   "id": "b4e50c85",
   "metadata": {},
   "outputs": [],
   "source": [
    "model.add(Dense(10, activation='softmax'))\n",
    "#출력레이어 정의 (입력 512개, 출력 10개)"
   ]
  },
  {
   "cell_type": "code",
   "execution_count": 18,
   "id": "051ed753",
   "metadata": {},
   "outputs": [],
   "source": [
    "model.compile(loss='categorical_crossentropy', optimizer='adam', metrics=['accuracy'])\n",
    "#오차 함수는 categorical_crossentropy, \n",
    "#활성화 함수는 adam을 사용"
   ]
  },
  {
   "cell_type": "code",
   "execution_count": 19,
   "id": "fcbe0ab7",
   "metadata": {},
   "outputs": [],
   "source": [
    "#모델 성과 저장 및 모델 최적화시 학습 중단 설정\n",
    "#성능변화가 10회 없으면 중단\n",
    "MODEL_DIR = './model/'\n",
    "if not os.path.exists(MODEL_DIR):\n",
    "    os.mkdir(MODEL_DIR)\n",
    "    \n",
    "modelpath=\"./model/{epoch:02d}-{val_loss:.4f}.keras\"\n",
    "checkpointer = ModelCheckpoint(filepath=modelpath, monitor='val_loss', verbose=1, save_best_only=True)\n",
    "early_stopping_callback = EarlyStopping(monitor='val_loss', patience=10)"
   ]
  },
  {
   "cell_type": "code",
   "execution_count": 20,
   "id": "0270464f",
   "metadata": {},
   "outputs": [
    {
     "name": "stdout",
     "output_type": "stream",
     "text": [
      "\n",
      "Epoch 1: val_loss improved from None to 0.15129, saving model to ./model/01-0.1513.keras\n",
      "\n",
      "Epoch 2: val_loss improved from 0.15129 to 0.10242, saving model to ./model/02-0.1024.keras\n",
      "\n",
      "Epoch 3: val_loss improved from 0.10242 to 0.08305, saving model to ./model/03-0.0830.keras\n",
      "\n",
      "Epoch 4: val_loss improved from 0.08305 to 0.07367, saving model to ./model/04-0.0737.keras\n",
      "\n",
      "Epoch 5: val_loss improved from 0.07367 to 0.06923, saving model to ./model/05-0.0692.keras\n",
      "\n",
      "Epoch 6: val_loss improved from 0.06923 to 0.06715, saving model to ./model/06-0.0671.keras\n",
      "\n",
      "Epoch 7: val_loss improved from 0.06715 to 0.06680, saving model to ./model/07-0.0668.keras\n",
      "\n",
      "Epoch 8: val_loss improved from 0.06680 to 0.06512, saving model to ./model/08-0.0651.keras\n",
      "\n",
      "Epoch 9: val_loss improved from 0.06512 to 0.06271, saving model to ./model/09-0.0627.keras\n",
      "\n",
      "Epoch 10: val_loss did not improve from 0.06271\n",
      "\n",
      "Epoch 11: val_loss did not improve from 0.06271\n",
      "\n",
      "Epoch 12: val_loss did not improve from 0.06271\n",
      "\n",
      "Epoch 13: val_loss did not improve from 0.06271\n",
      "\n",
      "Epoch 14: val_loss did not improve from 0.06271\n",
      "\n",
      "Epoch 15: val_loss did not improve from 0.06271\n",
      "\n",
      "Epoch 16: val_loss did not improve from 0.06271\n",
      "\n",
      "Epoch 17: val_loss did not improve from 0.06271\n",
      "\n",
      "Epoch 18: val_loss did not improve from 0.06271\n",
      "\n",
      "Epoch 19: val_loss did not improve from 0.06271\n"
     ]
    }
   ],
   "source": [
    "#샘플 200개로 30번 실행\n",
    "history = model.fit(X_train, Y_train, validation_data=(X_test, Y_test), epochs = 30, batch_size=200, verbose=0, callbacks=[early_stopping_callback, checkpointer])\n"
   ]
  },
  {
   "cell_type": "code",
   "execution_count": 21,
   "id": "e66a69a7",
   "metadata": {},
   "outputs": [
    {
     "name": "stdout",
     "output_type": "stream",
     "text": [
      "\u001b[1m313/313\u001b[0m \u001b[32m━━━━━━━━━━━━━━━━━━━━\u001b[0m\u001b[37m\u001b[0m \u001b[1m1s\u001b[0m 2ms/step - accuracy: 0.9822 - loss: 0.0749\n",
      "\n",
      " Test Accracy: 0.9822\n"
     ]
    }
   ],
   "source": [
    "print(\"\\n Test Accracy: %.4f\" % (model.evaluate(X_test, Y_test)[1]))\n",
    "#테스트셋으로 최종 모델의 성능을 축정하여 결과를 출력"
   ]
  },
  {
   "cell_type": "code",
   "execution_count": 22,
   "id": "9352b95f",
   "metadata": {},
   "outputs": [
    {
     "data": {
      "image/png": "[encoded data removed]",
      "text/plain": [
       "<Figure size 640x480 with 1 Axes>"
      ]
     },
     "metadata": {},
     "output_type": "display_data"
    }
   ],
   "source": [
    "y_vloss = history.history['val_loss']\n",
    "y_loss = history.history['loss']\n",
    "x_len = np.arange(len(y_loss))\n",
    "plt.plot(x_len, y_vloss, marker='.', c=\"red\", label='Testset_loss')\n",
    "plt.plot(x_len, y_loss, marker='.', c=\"blue\", label='Studyset_loss')\n",
    "plt.legend(loc='upper right')\n",
    "plt.axis([0, 20, 0, 0.35])\n",
    "plt.grid()\n",
    "plt.xlabel('epoch')\n",
    "plt.ylabel('loss')\n",
    "plt.show()"
   ]
  },
  {
   "cell_type": "code",
   "execution_count": 23,
   "id": "9080161f",
   "metadata": {},
   "outputs": [],
   "source": [
    "#테스트 셋중에서 2025번째 데이터를 가져오기\n",
    "index = 2025\n",
    "image = X_test[index]\n",
    "label = Y_class_test[index]"
   ]
  },
  {
   "cell_type": "code",
   "execution_count": 24,
   "id": "7dbf13ca",
   "metadata": {},
   "outputs": [
    {
     "data": {
      "image/png": "[encoded data removed]",
      "text/plain": [
       "<Figure size 640x480 with 1 Axes>"
      ]
     },
     "metadata": {},
     "output_type": "display_data"
    }
   ],
   "source": [
    "plt.imshow(image.reshape(28,28), cmap='grey')\n",
    "plt.title(f\"Actual Label: {label}\")\n",
    "plt.axis('off')\n",
    "plt.show()\n",
    "#라인 68~71 : 2025번째 이미지를 출력하고 해당 이미지의 label 도 출력"
   ]
  },
  {
   "cell_type": "code",
   "execution_count": 25,
   "id": "85a2a49c",
   "metadata": {},
   "outputs": [
    {
     "name": "stdout",
     "output_type": "stream",
     "text": [
      "\u001b[1m1/1\u001b[0m \u001b[32m━━━━━━━━━━━━━━━━━━━━\u001b[0m\u001b[37m\u001b[0m \u001b[1m0s\u001b[0m 70ms/step\n",
      "printed Label:  3\n"
     ]
    }
   ],
   "source": [
    "prediction = model.predict(image.reshape(1, 784))\n",
    "predicted_label = prediction.argmax()\n",
    "print(\"printed Label: \", predicted_label)\n",
    "\n",
    "# 모델에 데이터를 입력하여 예측을 수행하고 결과를 확인"
   ]
  }
 ],
 "metadata": {
  "kernelspec": {
   "display_name": "Python 3.12 (ру312)",
   "language": "python",
   "name": "py312"
  },
  "language_info": {
   "codemirror_mode": {
    "name": "ipython",
    "version": 3
   },
   "file_extension": ".py",
   "mimetype": "text/x-python",
   "name": "python",
   "nbconvert_exporter": "python",
   "pygments_lexer": "ipython3",
   "version": "3.12.11"
  }
 },
 "nbformat": 4,
 "nbformat_minor": 5
}
